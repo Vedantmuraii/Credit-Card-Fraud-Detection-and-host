{
  "nbformat": 4,
  "nbformat_minor": 0,
  "metadata": {
    "colab": {
      "provenance": [],
      "mount_file_id": "1lLQH3VpJ2GRv0njKk7C03x1jaRHdEdXc",
      "authorship_tag": "ABX9TyOw4nGPaSmfcWAi4ifdHHYj",
      "include_colab_link": true
    },
    "kernelspec": {
      "name": "python3",
      "display_name": "Python 3"
    },
    "language_info": {
      "name": "python"
    }
  },
  "cells": [
    {
      "cell_type": "markdown",
      "metadata": {
        "id": "view-in-github",
        "colab_type": "text"
      },
      "source": [
        "<a href=\"https://colab.research.google.com/github/Vedantmuraii/Credit-Card-Fraud-Detection-and-host/blob/main/model_savingipynb.ipynb\" target=\"_parent\"><img src=\"https://colab.research.google.com/assets/colab-badge.svg\" alt=\"Open In Colab\"/></a>"
      ]
    },
    {
      "cell_type": "code",
      "execution_count": null,
      "metadata": {
        "id": "HBSAAweG6scG"
      },
      "outputs": [],
      "source": [
        "import numpy as np\n",
        "import pandas as pd\n",
        "from sklearn.model_selection import train_test_split\n",
        "from sklearn.linear_model import LogisticRegression\n",
        "from sklearn.metrics import accuracy_score"
      ]
    },
    {
      "cell_type": "code",
      "source": [
        "# loading the dataset to a Pandas DataFrame\n",
        "credit_card_data = pd.read_csv('/content/drive/MyDrive/creditcard_2023.csv')"
      ],
      "metadata": {
        "id": "2jNTmEDs7RZZ"
      },
      "execution_count": null,
      "outputs": []
    },
    {
      "cell_type": "code",
      "source": [
        "credit_card_data.tail()"
      ],
      "metadata": {
        "colab": {
          "base_uri": "https://localhost:8080/",
          "height": 255
        },
        "id": "QWWX7phY7YF6",
        "outputId": "49d3dd0e-f847-439e-e075-e582f0d28d78"
      },
      "execution_count": null,
      "outputs": [
        {
          "output_type": "execute_result",
          "data": {
            "text/plain": [
              "            id        V1        V2        V3        V4        V5        V6  \\\n",
              "568625  568625 -0.833437  0.061886 -0.899794  0.904227 -1.002401  0.481454   \n",
              "568626  568626 -0.670459 -0.202896 -0.068129 -0.267328 -0.133660  0.237148   \n",
              "568627  568627 -0.311997 -0.004095  0.137526 -0.035893 -0.042291  0.121098   \n",
              "568628  568628  0.636871 -0.516970 -0.300889 -0.144480  0.131042 -0.294148   \n",
              "568629  568629 -0.795144  0.433236 -0.649140  0.374732 -0.244976 -0.603493   \n",
              "\n",
              "              V7        V8        V9  ...       V21       V22       V23  \\\n",
              "568625 -0.370393  0.189694 -0.938153  ...  0.167503  0.419731  1.288249   \n",
              "568626 -0.016935 -0.147733  0.483894  ...  0.031874  0.388161 -0.154257   \n",
              "568627 -0.070958 -0.019997 -0.122048  ...  0.140788  0.536523 -0.211100   \n",
              "568628  0.580568 -0.207723  0.893527  ... -0.060381 -0.195609 -0.175488   \n",
              "568629 -0.347613 -0.340814  0.253971  ...  0.534853 -0.291514  0.157303   \n",
              "\n",
              "             V24       V25       V26       V27       V28    Amount  Class  \n",
              "568625 -0.900861  0.560661 -0.006018  3.308968  0.081564   4394.16      1  \n",
              "568626 -0.846452 -0.153443  1.961398 -1.528642  1.704306   4653.40      1  \n",
              "568627 -0.448909  0.540073 -0.755836 -0.487540 -0.268741  23572.85      1  \n",
              "568628 -0.554643 -0.099669 -1.434931 -0.159269 -0.076251  10160.83      1  \n",
              "568629  0.931030 -0.349423 -1.090974 -1.575113  0.722936  21493.92      1  \n",
              "\n",
              "[5 rows x 31 columns]"
            ],
            "text/html": [
              "\n",
              "  <div id=\"df-d0d8d8cd-fb55-40a1-b572-69daa732fbed\" class=\"colab-df-container\">\n",
              "    <div>\n",
              "<style scoped>\n",
              "    .dataframe tbody tr th:only-of-type {\n",
              "        vertical-align: middle;\n",
              "    }\n",
              "\n",
              "    .dataframe tbody tr th {\n",
              "        vertical-align: top;\n",
              "    }\n",
              "\n",
              "    .dataframe thead th {\n",
              "        text-align: right;\n",
              "    }\n",
              "</style>\n",
              "<table border=\"1\" class=\"dataframe\">\n",
              "  <thead>\n",
              "    <tr style=\"text-align: right;\">\n",
              "      <th></th>\n",
              "      <th>id</th>\n",
              "      <th>V1</th>\n",
              "      <th>V2</th>\n",
              "      <th>V3</th>\n",
              "      <th>V4</th>\n",
              "      <th>V5</th>\n",
              "      <th>V6</th>\n",
              "      <th>V7</th>\n",
              "      <th>V8</th>\n",
              "      <th>V9</th>\n",
              "      <th>...</th>\n",
              "      <th>V21</th>\n",
              "      <th>V22</th>\n",
              "      <th>V23</th>\n",
              "      <th>V24</th>\n",
              "      <th>V25</th>\n",
              "      <th>V26</th>\n",
              "      <th>V27</th>\n",
              "      <th>V28</th>\n",
              "      <th>Amount</th>\n",
              "      <th>Class</th>\n",
              "    </tr>\n",
              "  </thead>\n",
              "  <tbody>\n",
              "    <tr>\n",
              "      <th>568625</th>\n",
              "      <td>568625</td>\n",
              "      <td>-0.833437</td>\n",
              "      <td>0.061886</td>\n",
              "      <td>-0.899794</td>\n",
              "      <td>0.904227</td>\n",
              "      <td>-1.002401</td>\n",
              "      <td>0.481454</td>\n",
              "      <td>-0.370393</td>\n",
              "      <td>0.189694</td>\n",
              "      <td>-0.938153</td>\n",
              "      <td>...</td>\n",
              "      <td>0.167503</td>\n",
              "      <td>0.419731</td>\n",
              "      <td>1.288249</td>\n",
              "      <td>-0.900861</td>\n",
              "      <td>0.560661</td>\n",
              "      <td>-0.006018</td>\n",
              "      <td>3.308968</td>\n",
              "      <td>0.081564</td>\n",
              "      <td>4394.16</td>\n",
              "      <td>1</td>\n",
              "    </tr>\n",
              "    <tr>\n",
              "      <th>568626</th>\n",
              "      <td>568626</td>\n",
              "      <td>-0.670459</td>\n",
              "      <td>-0.202896</td>\n",
              "      <td>-0.068129</td>\n",
              "      <td>-0.267328</td>\n",
              "      <td>-0.133660</td>\n",
              "      <td>0.237148</td>\n",
              "      <td>-0.016935</td>\n",
              "      <td>-0.147733</td>\n",
              "      <td>0.483894</td>\n",
              "      <td>...</td>\n",
              "      <td>0.031874</td>\n",
              "      <td>0.388161</td>\n",
              "      <td>-0.154257</td>\n",
              "      <td>-0.846452</td>\n",
              "      <td>-0.153443</td>\n",
              "      <td>1.961398</td>\n",
              "      <td>-1.528642</td>\n",
              "      <td>1.704306</td>\n",
              "      <td>4653.40</td>\n",
              "      <td>1</td>\n",
              "    </tr>\n",
              "    <tr>\n",
              "      <th>568627</th>\n",
              "      <td>568627</td>\n",
              "      <td>-0.311997</td>\n",
              "      <td>-0.004095</td>\n",
              "      <td>0.137526</td>\n",
              "      <td>-0.035893</td>\n",
              "      <td>-0.042291</td>\n",
              "      <td>0.121098</td>\n",
              "      <td>-0.070958</td>\n",
              "      <td>-0.019997</td>\n",
              "      <td>-0.122048</td>\n",
              "      <td>...</td>\n",
              "      <td>0.140788</td>\n",
              "      <td>0.536523</td>\n",
              "      <td>-0.211100</td>\n",
              "      <td>-0.448909</td>\n",
              "      <td>0.540073</td>\n",
              "      <td>-0.755836</td>\n",
              "      <td>-0.487540</td>\n",
              "      <td>-0.268741</td>\n",
              "      <td>23572.85</td>\n",
              "      <td>1</td>\n",
              "    </tr>\n",
              "    <tr>\n",
              "      <th>568628</th>\n",
              "      <td>568628</td>\n",
              "      <td>0.636871</td>\n",
              "      <td>-0.516970</td>\n",
              "      <td>-0.300889</td>\n",
              "      <td>-0.144480</td>\n",
              "      <td>0.131042</td>\n",
              "      <td>-0.294148</td>\n",
              "      <td>0.580568</td>\n",
              "      <td>-0.207723</td>\n",
              "      <td>0.893527</td>\n",
              "      <td>...</td>\n",
              "      <td>-0.060381</td>\n",
              "      <td>-0.195609</td>\n",
              "      <td>-0.175488</td>\n",
              "      <td>-0.554643</td>\n",
              "      <td>-0.099669</td>\n",
              "      <td>-1.434931</td>\n",
              "      <td>-0.159269</td>\n",
              "      <td>-0.076251</td>\n",
              "      <td>10160.83</td>\n",
              "      <td>1</td>\n",
              "    </tr>\n",
              "    <tr>\n",
              "      <th>568629</th>\n",
              "      <td>568629</td>\n",
              "      <td>-0.795144</td>\n",
              "      <td>0.433236</td>\n",
              "      <td>-0.649140</td>\n",
              "      <td>0.374732</td>\n",
              "      <td>-0.244976</td>\n",
              "      <td>-0.603493</td>\n",
              "      <td>-0.347613</td>\n",
              "      <td>-0.340814</td>\n",
              "      <td>0.253971</td>\n",
              "      <td>...</td>\n",
              "      <td>0.534853</td>\n",
              "      <td>-0.291514</td>\n",
              "      <td>0.157303</td>\n",
              "      <td>0.931030</td>\n",
              "      <td>-0.349423</td>\n",
              "      <td>-1.090974</td>\n",
              "      <td>-1.575113</td>\n",
              "      <td>0.722936</td>\n",
              "      <td>21493.92</td>\n",
              "      <td>1</td>\n",
              "    </tr>\n",
              "  </tbody>\n",
              "</table>\n",
              "<p>5 rows × 31 columns</p>\n",
              "</div>\n",
              "    <div class=\"colab-df-buttons\">\n",
              "\n",
              "  <div class=\"colab-df-container\">\n",
              "    <button class=\"colab-df-convert\" onclick=\"convertToInteractive('df-d0d8d8cd-fb55-40a1-b572-69daa732fbed')\"\n",
              "            title=\"Convert this dataframe to an interactive table.\"\n",
              "            style=\"display:none;\">\n",
              "\n",
              "  <svg xmlns=\"http://www.w3.org/2000/svg\" height=\"24px\" viewBox=\"0 -960 960 960\">\n",
              "    <path d=\"M120-120v-720h720v720H120Zm60-500h600v-160H180v160Zm220 220h160v-160H400v160Zm0 220h160v-160H400v160ZM180-400h160v-160H180v160Zm440 0h160v-160H620v160ZM180-180h160v-160H180v160Zm440 0h160v-160H620v160Z\"/>\n",
              "  </svg>\n",
              "    </button>\n",
              "\n",
              "  <style>\n",
              "    .colab-df-container {\n",
              "      display:flex;\n",
              "      gap: 12px;\n",
              "    }\n",
              "\n",
              "    .colab-df-convert {\n",
              "      background-color: #E8F0FE;\n",
              "      border: none;\n",
              "      border-radius: 50%;\n",
              "      cursor: pointer;\n",
              "      display: none;\n",
              "      fill: #1967D2;\n",
              "      height: 32px;\n",
              "      padding: 0 0 0 0;\n",
              "      width: 32px;\n",
              "    }\n",
              "\n",
              "    .colab-df-convert:hover {\n",
              "      background-color: #E2EBFA;\n",
              "      box-shadow: 0px 1px 2px rgba(60, 64, 67, 0.3), 0px 1px 3px 1px rgba(60, 64, 67, 0.15);\n",
              "      fill: #174EA6;\n",
              "    }\n",
              "\n",
              "    .colab-df-buttons div {\n",
              "      margin-bottom: 4px;\n",
              "    }\n",
              "\n",
              "    [theme=dark] .colab-df-convert {\n",
              "      background-color: #3B4455;\n",
              "      fill: #D2E3FC;\n",
              "    }\n",
              "\n",
              "    [theme=dark] .colab-df-convert:hover {\n",
              "      background-color: #434B5C;\n",
              "      box-shadow: 0px 1px 3px 1px rgba(0, 0, 0, 0.15);\n",
              "      filter: drop-shadow(0px 1px 2px rgba(0, 0, 0, 0.3));\n",
              "      fill: #FFFFFF;\n",
              "    }\n",
              "  </style>\n",
              "\n",
              "    <script>\n",
              "      const buttonEl =\n",
              "        document.querySelector('#df-d0d8d8cd-fb55-40a1-b572-69daa732fbed button.colab-df-convert');\n",
              "      buttonEl.style.display =\n",
              "        google.colab.kernel.accessAllowed ? 'block' : 'none';\n",
              "\n",
              "      async function convertToInteractive(key) {\n",
              "        const element = document.querySelector('#df-d0d8d8cd-fb55-40a1-b572-69daa732fbed');\n",
              "        const dataTable =\n",
              "          await google.colab.kernel.invokeFunction('convertToInteractive',\n",
              "                                                    [key], {});\n",
              "        if (!dataTable) return;\n",
              "\n",
              "        const docLinkHtml = 'Like what you see? Visit the ' +\n",
              "          '<a target=\"_blank\" href=https://colab.research.google.com/notebooks/data_table.ipynb>data table notebook</a>'\n",
              "          + ' to learn more about interactive tables.';\n",
              "        element.innerHTML = '';\n",
              "        dataTable['output_type'] = 'display_data';\n",
              "        await google.colab.output.renderOutput(dataTable, element);\n",
              "        const docLink = document.createElement('div');\n",
              "        docLink.innerHTML = docLinkHtml;\n",
              "        element.appendChild(docLink);\n",
              "      }\n",
              "    </script>\n",
              "  </div>\n",
              "\n",
              "\n",
              "<div id=\"df-a99a6ca1-d8a8-4d02-9cdd-14af6ab2a65c\">\n",
              "  <button class=\"colab-df-quickchart\" onclick=\"quickchart('df-a99a6ca1-d8a8-4d02-9cdd-14af6ab2a65c')\"\n",
              "            title=\"Suggest charts\"\n",
              "            style=\"display:none;\">\n",
              "\n",
              "<svg xmlns=\"http://www.w3.org/2000/svg\" height=\"24px\"viewBox=\"0 0 24 24\"\n",
              "     width=\"24px\">\n",
              "    <g>\n",
              "        <path d=\"M19 3H5c-1.1 0-2 .9-2 2v14c0 1.1.9 2 2 2h14c1.1 0 2-.9 2-2V5c0-1.1-.9-2-2-2zM9 17H7v-7h2v7zm4 0h-2V7h2v10zm4 0h-2v-4h2v4z\"/>\n",
              "    </g>\n",
              "</svg>\n",
              "  </button>\n",
              "\n",
              "<style>\n",
              "  .colab-df-quickchart {\n",
              "      --bg-color: #E8F0FE;\n",
              "      --fill-color: #1967D2;\n",
              "      --hover-bg-color: #E2EBFA;\n",
              "      --hover-fill-color: #174EA6;\n",
              "      --disabled-fill-color: #AAA;\n",
              "      --disabled-bg-color: #DDD;\n",
              "  }\n",
              "\n",
              "  [theme=dark] .colab-df-quickchart {\n",
              "      --bg-color: #3B4455;\n",
              "      --fill-color: #D2E3FC;\n",
              "      --hover-bg-color: #434B5C;\n",
              "      --hover-fill-color: #FFFFFF;\n",
              "      --disabled-bg-color: #3B4455;\n",
              "      --disabled-fill-color: #666;\n",
              "  }\n",
              "\n",
              "  .colab-df-quickchart {\n",
              "    background-color: var(--bg-color);\n",
              "    border: none;\n",
              "    border-radius: 50%;\n",
              "    cursor: pointer;\n",
              "    display: none;\n",
              "    fill: var(--fill-color);\n",
              "    height: 32px;\n",
              "    padding: 0;\n",
              "    width: 32px;\n",
              "  }\n",
              "\n",
              "  .colab-df-quickchart:hover {\n",
              "    background-color: var(--hover-bg-color);\n",
              "    box-shadow: 0 1px 2px rgba(60, 64, 67, 0.3), 0 1px 3px 1px rgba(60, 64, 67, 0.15);\n",
              "    fill: var(--button-hover-fill-color);\n",
              "  }\n",
              "\n",
              "  .colab-df-quickchart-complete:disabled,\n",
              "  .colab-df-quickchart-complete:disabled:hover {\n",
              "    background-color: var(--disabled-bg-color);\n",
              "    fill: var(--disabled-fill-color);\n",
              "    box-shadow: none;\n",
              "  }\n",
              "\n",
              "  .colab-df-spinner {\n",
              "    border: 2px solid var(--fill-color);\n",
              "    border-color: transparent;\n",
              "    border-bottom-color: var(--fill-color);\n",
              "    animation:\n",
              "      spin 1s steps(1) infinite;\n",
              "  }\n",
              "\n",
              "  @keyframes spin {\n",
              "    0% {\n",
              "      border-color: transparent;\n",
              "      border-bottom-color: var(--fill-color);\n",
              "      border-left-color: var(--fill-color);\n",
              "    }\n",
              "    20% {\n",
              "      border-color: transparent;\n",
              "      border-left-color: var(--fill-color);\n",
              "      border-top-color: var(--fill-color);\n",
              "    }\n",
              "    30% {\n",
              "      border-color: transparent;\n",
              "      border-left-color: var(--fill-color);\n",
              "      border-top-color: var(--fill-color);\n",
              "      border-right-color: var(--fill-color);\n",
              "    }\n",
              "    40% {\n",
              "      border-color: transparent;\n",
              "      border-right-color: var(--fill-color);\n",
              "      border-top-color: var(--fill-color);\n",
              "    }\n",
              "    60% {\n",
              "      border-color: transparent;\n",
              "      border-right-color: var(--fill-color);\n",
              "    }\n",
              "    80% {\n",
              "      border-color: transparent;\n",
              "      border-right-color: var(--fill-color);\n",
              "      border-bottom-color: var(--fill-color);\n",
              "    }\n",
              "    90% {\n",
              "      border-color: transparent;\n",
              "      border-bottom-color: var(--fill-color);\n",
              "    }\n",
              "  }\n",
              "</style>\n",
              "\n",
              "  <script>\n",
              "    async function quickchart(key) {\n",
              "      const quickchartButtonEl =\n",
              "        document.querySelector('#' + key + ' button');\n",
              "      quickchartButtonEl.disabled = true;  // To prevent multiple clicks.\n",
              "      quickchartButtonEl.classList.add('colab-df-spinner');\n",
              "      try {\n",
              "        const charts = await google.colab.kernel.invokeFunction(\n",
              "            'suggestCharts', [key], {});\n",
              "      } catch (error) {\n",
              "        console.error('Error during call to suggestCharts:', error);\n",
              "      }\n",
              "      quickchartButtonEl.classList.remove('colab-df-spinner');\n",
              "      quickchartButtonEl.classList.add('colab-df-quickchart-complete');\n",
              "    }\n",
              "    (() => {\n",
              "      let quickchartButtonEl =\n",
              "        document.querySelector('#df-a99a6ca1-d8a8-4d02-9cdd-14af6ab2a65c button');\n",
              "      quickchartButtonEl.style.display =\n",
              "        google.colab.kernel.accessAllowed ? 'block' : 'none';\n",
              "    })();\n",
              "  </script>\n",
              "</div>\n",
              "    </div>\n",
              "  </div>\n"
            ],
            "application/vnd.google.colaboratory.intrinsic+json": {
              "type": "dataframe"
            }
          },
          "metadata": {},
          "execution_count": 26
        }
      ]
    },
    {
      "cell_type": "code",
      "source": [
        "# dataset informations\n",
        "credit_card_data.info()"
      ],
      "metadata": {
        "colab": {
          "base_uri": "https://localhost:8080/"
        },
        "id": "l9FMhICl7dwQ",
        "outputId": "0a768779-968a-4fdd-ed89-a7fd586e1aa6"
      },
      "execution_count": null,
      "outputs": [
        {
          "output_type": "stream",
          "name": "stdout",
          "text": [
            "<class 'pandas.core.frame.DataFrame'>\n",
            "RangeIndex: 568630 entries, 0 to 568629\n",
            "Data columns (total 31 columns):\n",
            " #   Column  Non-Null Count   Dtype  \n",
            "---  ------  --------------   -----  \n",
            " 0   id      568630 non-null  int64  \n",
            " 1   V1      568630 non-null  float64\n",
            " 2   V2      568630 non-null  float64\n",
            " 3   V3      568630 non-null  float64\n",
            " 4   V4      568630 non-null  float64\n",
            " 5   V5      568630 non-null  float64\n",
            " 6   V6      568630 non-null  float64\n",
            " 7   V7      568630 non-null  float64\n",
            " 8   V8      568630 non-null  float64\n",
            " 9   V9      568630 non-null  float64\n",
            " 10  V10     568630 non-null  float64\n",
            " 11  V11     568630 non-null  float64\n",
            " 12  V12     568630 non-null  float64\n",
            " 13  V13     568630 non-null  float64\n",
            " 14  V14     568630 non-null  float64\n",
            " 15  V15     568630 non-null  float64\n",
            " 16  V16     568630 non-null  float64\n",
            " 17  V17     568630 non-null  float64\n",
            " 18  V18     568630 non-null  float64\n",
            " 19  V19     568630 non-null  float64\n",
            " 20  V20     568630 non-null  float64\n",
            " 21  V21     568630 non-null  float64\n",
            " 22  V22     568630 non-null  float64\n",
            " 23  V23     568630 non-null  float64\n",
            " 24  V24     568630 non-null  float64\n",
            " 25  V25     568630 non-null  float64\n",
            " 26  V26     568630 non-null  float64\n",
            " 27  V27     568630 non-null  float64\n",
            " 28  V28     568630 non-null  float64\n",
            " 29  Amount  568630 non-null  float64\n",
            " 30  Class   568630 non-null  int64  \n",
            "dtypes: float64(29), int64(2)\n",
            "memory usage: 134.5 MB\n"
          ]
        }
      ]
    },
    {
      "cell_type": "code",
      "source": [
        "credit_card_data['Class'].value_counts()"
      ],
      "metadata": {
        "colab": {
          "base_uri": "https://localhost:8080/"
        },
        "id": "GPIzGyP17h4Y",
        "outputId": "f6eedfe4-c155-4ada-dab5-e93f13f6f9e2"
      },
      "execution_count": null,
      "outputs": [
        {
          "output_type": "execute_result",
          "data": {
            "text/plain": [
              "Class\n",
              "0    284315\n",
              "1    284315\n",
              "Name: count, dtype: int64"
            ]
          },
          "metadata": {},
          "execution_count": 28
        }
      ]
    },
    {
      "cell_type": "code",
      "source": [
        "legit = credit_card_data[credit_card_data.Class == 0]\n",
        "fraud = credit_card_data[credit_card_data.Class == 1]"
      ],
      "metadata": {
        "id": "Lki9TeFZ8lH4"
      },
      "execution_count": null,
      "outputs": []
    },
    {
      "cell_type": "code",
      "source": [
        "print(legit.shape)\n",
        "print(fraud.shape)"
      ],
      "metadata": {
        "colab": {
          "base_uri": "https://localhost:8080/"
        },
        "id": "qAwUBi9Z8oSl",
        "outputId": "d5569f5f-9d9f-4209-e66f-47d96b9693e7"
      },
      "execution_count": null,
      "outputs": [
        {
          "output_type": "stream",
          "name": "stdout",
          "text": [
            "(284315, 31)\n",
            "(284315, 31)\n"
          ]
        }
      ]
    },
    {
      "cell_type": "code",
      "source": [
        "legit.Amount.describe()"
      ],
      "metadata": {
        "colab": {
          "base_uri": "https://localhost:8080/"
        },
        "id": "DqRWYVhI8qcu",
        "outputId": "7caafd16-d4e2-410a-d6af-4af1e48d76ef"
      },
      "execution_count": null,
      "outputs": [
        {
          "output_type": "execute_result",
          "data": {
            "text/plain": [
              "count    284315.000000\n",
              "mean      12026.313506\n",
              "std        6929.500715\n",
              "min          50.120000\n",
              "25%        6034.540000\n",
              "50%       11996.900000\n",
              "75%       18040.265000\n",
              "max       24039.930000\n",
              "Name: Amount, dtype: float64"
            ]
          },
          "metadata": {},
          "execution_count": 31
        }
      ]
    },
    {
      "cell_type": "code",
      "source": [
        "fraud.Amount.describe()"
      ],
      "metadata": {
        "colab": {
          "base_uri": "https://localhost:8080/"
        },
        "id": "_XCkLUg98xnj",
        "outputId": "b28a9f8a-bc84-4479-e386-db75f928208d"
      },
      "execution_count": null,
      "outputs": [
        {
          "output_type": "execute_result",
          "data": {
            "text/plain": [
              "count    284315.000000\n",
              "mean      12057.601763\n",
              "std        6909.750891\n",
              "min          50.010000\n",
              "25%        6074.640000\n",
              "50%       12062.450000\n",
              "75%       18033.780000\n",
              "max       24039.930000\n",
              "Name: Amount, dtype: float64"
            ]
          },
          "metadata": {},
          "execution_count": 32
        }
      ]
    },
    {
      "cell_type": "code",
      "source": [
        "X = credit_card_data.drop(columns='Class', axis=1)\n",
        "Y = credit_card_data['Class']"
      ],
      "metadata": {
        "id": "WxbQtRlt81PL"
      },
      "execution_count": null,
      "outputs": []
    },
    {
      "cell_type": "code",
      "source": [
        "print(X)"
      ],
      "metadata": {
        "colab": {
          "base_uri": "https://localhost:8080/"
        },
        "id": "VyeGPu9d9GHz",
        "outputId": "adc4683e-5eb6-40cb-cae1-ab673e65b742"
      },
      "execution_count": null,
      "outputs": [
        {
          "output_type": "stream",
          "name": "stdout",
          "text": [
            "            id        V1        V2        V3        V4        V5        V6  \\\n",
            "0            0 -0.260648 -0.469648  2.496266 -0.083724  0.129681  0.732898   \n",
            "1            1  0.985100 -0.356045  0.558056 -0.429654  0.277140  0.428605   \n",
            "2            2 -0.260272 -0.949385  1.728538 -0.457986  0.074062  1.419481   \n",
            "3            3 -0.152152 -0.508959  1.746840 -1.090178  0.249486  1.143312   \n",
            "4            4 -0.206820 -0.165280  1.527053 -0.448293  0.106125  0.530549   \n",
            "...        ...       ...       ...       ...       ...       ...       ...   \n",
            "568625  568625 -0.833437  0.061886 -0.899794  0.904227 -1.002401  0.481454   \n",
            "568626  568626 -0.670459 -0.202896 -0.068129 -0.267328 -0.133660  0.237148   \n",
            "568627  568627 -0.311997 -0.004095  0.137526 -0.035893 -0.042291  0.121098   \n",
            "568628  568628  0.636871 -0.516970 -0.300889 -0.144480  0.131042 -0.294148   \n",
            "568629  568629 -0.795144  0.433236 -0.649140  0.374732 -0.244976 -0.603493   \n",
            "\n",
            "              V7        V8        V9  ...       V20       V21       V22  \\\n",
            "0       0.519014 -0.130006  0.727159  ...  0.091202 -0.110552  0.217606   \n",
            "1       0.406466 -0.133118  0.347452  ... -0.233984 -0.194936 -0.605761   \n",
            "2       0.743511 -0.095576 -0.261297  ...  0.361652 -0.005020  0.702906   \n",
            "3       0.518269 -0.065130 -0.205698  ... -0.378223 -0.146927 -0.038212   \n",
            "4       0.658849 -0.212660  1.049921  ...  0.247237 -0.106984  0.729727   \n",
            "...          ...       ...       ...  ...       ...       ...       ...   \n",
            "568625 -0.370393  0.189694 -0.938153  ... -0.751011  0.167503  0.419731   \n",
            "568626 -0.016935 -0.147733  0.483894  ... -0.550260  0.031874  0.388161   \n",
            "568627 -0.070958 -0.019997 -0.122048  ... -0.076417  0.140788  0.536523   \n",
            "568628  0.580568 -0.207723  0.893527  ...  0.288186 -0.060381 -0.195609   \n",
            "568629 -0.347613 -0.340814  0.253971  ... -0.621378  0.534853 -0.291514   \n",
            "\n",
            "             V23       V24       V25       V26       V27       V28    Amount  \n",
            "0      -0.134794  0.165959  0.126280 -0.434824 -0.081230 -0.151045  17982.10  \n",
            "1       0.079469 -0.577395  0.190090  0.296503 -0.248052 -0.064512   6531.37  \n",
            "2       0.945045 -1.154666 -0.605564 -0.312895 -0.300258 -0.244718   2513.54  \n",
            "3      -0.214048 -1.893131  1.003963 -0.515950 -0.165316  0.048424   5384.44  \n",
            "4      -0.161666  0.312561 -0.414116  1.071126  0.023712  0.419117  14278.97  \n",
            "...          ...       ...       ...       ...       ...       ...       ...  \n",
            "568625  1.288249 -0.900861  0.560661 -0.006018  3.308968  0.081564   4394.16  \n",
            "568626 -0.154257 -0.846452 -0.153443  1.961398 -1.528642  1.704306   4653.40  \n",
            "568627 -0.211100 -0.448909  0.540073 -0.755836 -0.487540 -0.268741  23572.85  \n",
            "568628 -0.175488 -0.554643 -0.099669 -1.434931 -0.159269 -0.076251  10160.83  \n",
            "568629  0.157303  0.931030 -0.349423 -1.090974 -1.575113  0.722936  21493.92  \n",
            "\n",
            "[568630 rows x 30 columns]\n"
          ]
        }
      ]
    },
    {
      "cell_type": "code",
      "source": [
        "print(Y)"
      ],
      "metadata": {
        "colab": {
          "base_uri": "https://localhost:8080/"
        },
        "id": "3PHMJmBX9JL0",
        "outputId": "f05a34af-280c-46a6-fe77-2a706c5bc0c1"
      },
      "execution_count": null,
      "outputs": [
        {
          "output_type": "stream",
          "name": "stdout",
          "text": [
            "0         0\n",
            "1         0\n",
            "2         0\n",
            "3         0\n",
            "4         0\n",
            "         ..\n",
            "568625    1\n",
            "568626    1\n",
            "568627    1\n",
            "568628    1\n",
            "568629    1\n",
            "Name: Class, Length: 568630, dtype: int64\n"
          ]
        }
      ]
    },
    {
      "cell_type": "code",
      "source": [
        "X_train, X_test, Y_train, Y_test = train_test_split(X, Y, test_size=0.2, stratify=Y, random_state=2)"
      ],
      "metadata": {
        "id": "HRuY7LE29MOM"
      },
      "execution_count": null,
      "outputs": []
    },
    {
      "cell_type": "code",
      "source": [
        "print(X.shape, X_train.shape, X_test.shape)"
      ],
      "metadata": {
        "colab": {
          "base_uri": "https://localhost:8080/"
        },
        "id": "gds3Z9PP9QFj",
        "outputId": "fcdc2171-7357-48da-fe68-52ea28f33118"
      },
      "execution_count": null,
      "outputs": [
        {
          "output_type": "stream",
          "name": "stdout",
          "text": [
            "(568630, 30) (454904, 30) (113726, 30)\n"
          ]
        }
      ]
    },
    {
      "cell_type": "code",
      "source": [],
      "metadata": {
        "id": "JBBH-u449tjw"
      },
      "execution_count": null,
      "outputs": []
    },
    {
      "cell_type": "code",
      "source": [
        "from sklearn.ensemble import RandomForestClassifier\n",
        "\n",
        "model = RandomForestClassifier()\n",
        "model.fit(X_train, Y_train)\n"
      ],
      "metadata": {
        "colab": {
          "base_uri": "https://localhost:8080/",
          "height": 74
        },
        "id": "GTjvF-mw9TQC",
        "outputId": "13add115-6af6-4ea7-84f3-be7ebe3ce8bc"
      },
      "execution_count": null,
      "outputs": [
        {
          "output_type": "execute_result",
          "data": {
            "text/plain": [
              "RandomForestClassifier()"
            ],
            "text/html": [
              "<style>#sk-container-id-2 {color: black;background-color: white;}#sk-container-id-2 pre{padding: 0;}#sk-container-id-2 div.sk-toggleable {background-color: white;}#sk-container-id-2 label.sk-toggleable__label {cursor: pointer;display: block;width: 100%;margin-bottom: 0;padding: 0.3em;box-sizing: border-box;text-align: center;}#sk-container-id-2 label.sk-toggleable__label-arrow:before {content: \"▸\";float: left;margin-right: 0.25em;color: #696969;}#sk-container-id-2 label.sk-toggleable__label-arrow:hover:before {color: black;}#sk-container-id-2 div.sk-estimator:hover label.sk-toggleable__label-arrow:before {color: black;}#sk-container-id-2 div.sk-toggleable__content {max-height: 0;max-width: 0;overflow: hidden;text-align: left;background-color: #f0f8ff;}#sk-container-id-2 div.sk-toggleable__content pre {margin: 0.2em;color: black;border-radius: 0.25em;background-color: #f0f8ff;}#sk-container-id-2 input.sk-toggleable__control:checked~div.sk-toggleable__content {max-height: 200px;max-width: 100%;overflow: auto;}#sk-container-id-2 input.sk-toggleable__control:checked~label.sk-toggleable__label-arrow:before {content: \"▾\";}#sk-container-id-2 div.sk-estimator input.sk-toggleable__control:checked~label.sk-toggleable__label {background-color: #d4ebff;}#sk-container-id-2 div.sk-label input.sk-toggleable__control:checked~label.sk-toggleable__label {background-color: #d4ebff;}#sk-container-id-2 input.sk-hidden--visually {border: 0;clip: rect(1px 1px 1px 1px);clip: rect(1px, 1px, 1px, 1px);height: 1px;margin: -1px;overflow: hidden;padding: 0;position: absolute;width: 1px;}#sk-container-id-2 div.sk-estimator {font-family: monospace;background-color: #f0f8ff;border: 1px dotted black;border-radius: 0.25em;box-sizing: border-box;margin-bottom: 0.5em;}#sk-container-id-2 div.sk-estimator:hover {background-color: #d4ebff;}#sk-container-id-2 div.sk-parallel-item::after {content: \"\";width: 100%;border-bottom: 1px solid gray;flex-grow: 1;}#sk-container-id-2 div.sk-label:hover label.sk-toggleable__label {background-color: #d4ebff;}#sk-container-id-2 div.sk-serial::before {content: \"\";position: absolute;border-left: 1px solid gray;box-sizing: border-box;top: 0;bottom: 0;left: 50%;z-index: 0;}#sk-container-id-2 div.sk-serial {display: flex;flex-direction: column;align-items: center;background-color: white;padding-right: 0.2em;padding-left: 0.2em;position: relative;}#sk-container-id-2 div.sk-item {position: relative;z-index: 1;}#sk-container-id-2 div.sk-parallel {display: flex;align-items: stretch;justify-content: center;background-color: white;position: relative;}#sk-container-id-2 div.sk-item::before, #sk-container-id-2 div.sk-parallel-item::before {content: \"\";position: absolute;border-left: 1px solid gray;box-sizing: border-box;top: 0;bottom: 0;left: 50%;z-index: -1;}#sk-container-id-2 div.sk-parallel-item {display: flex;flex-direction: column;z-index: 1;position: relative;background-color: white;}#sk-container-id-2 div.sk-parallel-item:first-child::after {align-self: flex-end;width: 50%;}#sk-container-id-2 div.sk-parallel-item:last-child::after {align-self: flex-start;width: 50%;}#sk-container-id-2 div.sk-parallel-item:only-child::after {width: 0;}#sk-container-id-2 div.sk-dashed-wrapped {border: 1px dashed gray;margin: 0 0.4em 0.5em 0.4em;box-sizing: border-box;padding-bottom: 0.4em;background-color: white;}#sk-container-id-2 div.sk-label label {font-family: monospace;font-weight: bold;display: inline-block;line-height: 1.2em;}#sk-container-id-2 div.sk-label-container {text-align: center;}#sk-container-id-2 div.sk-container {/* jupyter's `normalize.less` sets `[hidden] { display: none; }` but bootstrap.min.css set `[hidden] { display: none !important; }` so we also need the `!important` here to be able to override the default hidden behavior on the sphinx rendered scikit-learn.org. See: https://github.com/scikit-learn/scikit-learn/issues/21755 */display: inline-block !important;position: relative;}#sk-container-id-2 div.sk-text-repr-fallback {display: none;}</style><div id=\"sk-container-id-2\" class=\"sk-top-container\"><div class=\"sk-text-repr-fallback\"><pre>RandomForestClassifier()</pre><b>In a Jupyter environment, please rerun this cell to show the HTML representation or trust the notebook. <br />On GitHub, the HTML representation is unable to render, please try loading this page with nbviewer.org.</b></div><div class=\"sk-container\" hidden><div class=\"sk-item\"><div class=\"sk-estimator sk-toggleable\"><input class=\"sk-toggleable__control sk-hidden--visually\" id=\"sk-estimator-id-2\" type=\"checkbox\" checked><label for=\"sk-estimator-id-2\" class=\"sk-toggleable__label sk-toggleable__label-arrow\">RandomForestClassifier</label><div class=\"sk-toggleable__content\"><pre>RandomForestClassifier()</pre></div></div></div></div></div>"
            ]
          },
          "metadata": {},
          "execution_count": 38
        }
      ]
    },
    {
      "cell_type": "code",
      "source": [
        "# accuracy on training data\n",
        "X_train_prediction = model.predict(X_train)\n",
        "training_data_accuracy = accuracy_score(X_train_prediction, Y_train)"
      ],
      "metadata": {
        "id": "Bu1Qo5vr9xFV"
      },
      "execution_count": null,
      "outputs": []
    },
    {
      "cell_type": "code",
      "source": [
        "print('Accuracy on Training data : ', training_data_accuracy)"
      ],
      "metadata": {
        "colab": {
          "base_uri": "https://localhost:8080/"
        },
        "id": "IIImugF4_gMf",
        "outputId": "3179ee81-c871-4679-d605-e25396e19042"
      },
      "execution_count": null,
      "outputs": [
        {
          "output_type": "stream",
          "name": "stdout",
          "text": [
            "Accuracy on Training data :  0.9999978017339922\n"
          ]
        }
      ]
    },
    {
      "cell_type": "code",
      "source": [
        "# accuracy on test data\n",
        "X_test_prediction = model.predict(X_test)\n",
        "test_data_accuracy = accuracy_score(X_test_prediction, Y_test)"
      ],
      "metadata": {
        "id": "J8PRKyGy_mWL"
      },
      "execution_count": null,
      "outputs": []
    },
    {
      "cell_type": "code",
      "source": [
        "print('Accuracy score on Test Data : ', test_data_accuracy)"
      ],
      "metadata": {
        "colab": {
          "base_uri": "https://localhost:8080/"
        },
        "id": "Pd-ob8fB_qg8",
        "outputId": "637f361f-aa39-4b17-ee13-1188714626ca"
      },
      "execution_count": null,
      "outputs": [
        {
          "output_type": "stream",
          "name": "stdout",
          "text": [
            "Accuracy score on Test Data :  0.9997537942071294\n"
          ]
        }
      ]
    },
    {
      "cell_type": "code",
      "source": [
        "import pickle"
      ],
      "metadata": {
        "id": "TVCXBwiH_tNQ"
      },
      "execution_count": null,
      "outputs": []
    },
    {
      "cell_type": "code",
      "source": [
        "filename = 'trained_model.sav'\n",
        "pickle.dump(model, open(filename, 'wb'))"
      ],
      "metadata": {
        "id": "cxT9z25DAlJP"
      },
      "execution_count": null,
      "outputs": []
    },
    {
      "cell_type": "code",
      "source": [
        "loaded_model = pickle.load(open('trained_model.sav', 'rb'))"
      ],
      "metadata": {
        "id": "YiJPR7OEBIwM"
      },
      "execution_count": null,
      "outputs": []
    },
    {
      "cell_type": "code",
      "source": [
        "from joblib import dump\n",
        "\n",
        "# Save the model to a file\n",
        "dump(model, 'trained_modell.joblib')\n"
      ],
      "metadata": {
        "colab": {
          "base_uri": "https://localhost:8080/"
        },
        "id": "S9TyQkQoGPkL",
        "outputId": "3507810a-5b45-4f4b-c987-8f717134a3ac"
      },
      "execution_count": null,
      "outputs": [
        {
          "output_type": "execute_result",
          "data": {
            "text/plain": [
              "['trained_modell.joblib']"
            ]
          },
          "metadata": {},
          "execution_count": 46
        }
      ]
    },
    {
      "cell_type": "code",
      "source": [],
      "metadata": {
        "id": "Ls6QnVfgd_qh"
      },
      "execution_count": null,
      "outputs": []
    }
  ]
}